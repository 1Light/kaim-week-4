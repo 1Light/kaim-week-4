{
 "cells": [
  {
   "cell_type": "code",
   "execution_count": null,
   "metadata": {
    "vscode": {
     "languageId": "plaintext"
    }
   },
   "outputs": [
    {
     "name": "stderr",
     "output_type": "stream",
     "text": [
      "2025-01-10 20:42:06,187 - INFO - Loading data from /mnt/c/Users/Nas/Contacts/Desktop/AIM/kaim-week-4/kaim-week-4/cleaned_data/primary_data.csv...\n",
      "2025-01-10 20:42:13,594 - INFO - Data loaded successfully!\n",
      "2025-01-10 20:42:13,595 - INFO - Preprocessing data...\n",
      "2025-01-10 20:42:15,146 - INFO - Data preprocessing completed.\n",
      "2025-01-10 20:42:15,149 - INFO - Training the model...\n"
     ]
    }
   ],
   "source": [
    "import os\n",
    "import pandas as pd\n",
    "import numpy as np\n",
    "from sklearn.model_selection import train_test_split\n",
    "from sklearn.ensemble import RandomForestRegressor\n",
    "from sklearn.metrics import mean_squared_error, mean_absolute_error\n",
    "import logging\n",
    "\n",
    "# Set up logging\n",
    "logging.basicConfig(level=logging.INFO, format='%(asctime)s - %(levelname)s - %(message)s')\n",
    "logger = logging.getLogger()\n",
    "\n",
    "class SalesPredictionModel:\n",
    "    def __init__(self, data_path, loss_function='mse'):\n",
    "        \"\"\"\n",
    "        Initializes the SalesPredictionModel with the dataset and loss function.\n",
    "        \n",
    "        :param data_path: The path to the dataset.\n",
    "        :param loss_function: The loss function to use for model evaluation. Options are 'mse' or 'mae'.\n",
    "        \"\"\"\n",
    "        self.data_path = data_path\n",
    "        self.df = None\n",
    "        self.model = None\n",
    "        self.loss_function = loss_function\n",
    "        self.X_train = None\n",
    "        self.X_test = None\n",
    "        self.y_train = None\n",
    "        self.y_test = None\n",
    "\n",
    "    def load_data(self):\n",
    "        \"\"\" Loads the dataset. \"\"\"\n",
    "        try:\n",
    "            logger.info(f\"Loading data from {self.data_path}...\")\n",
    "            self.df = pd.read_csv(self.data_path)\n",
    "            logger.info(\"Data loaded successfully!\")\n",
    "        except Exception as e:\n",
    "            logger.error(f\"Error loading data: {e}\")\n",
    "\n",
    "    def preprocess_data(self):\n",
    "        \"\"\" Preprocess the data: handle missing values, encode categorical features, etc. \"\"\"\n",
    "        logger.info(\"Preprocessing data...\")\n",
    "        self.df.fillna(0, inplace=True)  # Simple imputation\n",
    "        X = self.df.drop(columns=['Sales', 'Date'])  # Features\n",
    "        y = self.df['Sales']  # Target\n",
    "        \n",
    "        # One-hot encoding for categorical variables\n",
    "        X = pd.get_dummies(X, drop_first=True)\n",
    "\n",
    "        self.X_train, self.X_test, self.y_train, self.y_test = train_test_split(X, y, test_size=0.2, random_state=42)\n",
    "        logger.info(\"Data preprocessing completed.\")\n",
    "\n",
    "    def train_model(self):\n",
    "        \"\"\" Train the regression model using Random Forest Regressor. \"\"\"\n",
    "        logger.info(\"Training the model...\")\n",
    "        self.model = RandomForestRegressor(n_estimators=100, random_state=42)\n",
    "        self.model.fit(self.X_train, self.y_train)\n",
    "        logger.info(\"Model trained successfully.\")\n",
    "\n",
    "    def evaluate_model(self):\n",
    "        \"\"\" Evaluate the model using the selected loss function. \"\"\"\n",
    "        logger.info(f\"Evaluating the model using {self.loss_function}...\")\n",
    "\n",
    "        # Predictions\n",
    "        y_pred = self.model.predict(self.X_test)\n",
    "\n",
    "        if self.loss_function == 'mse':\n",
    "            loss = mean_squared_error(self.y_test, y_pred)\n",
    "            logger.info(f\"Mean Squared Error: {loss}\")\n",
    "        elif self.loss_function == 'mae':\n",
    "            loss = mean_absolute_error(self.y_test, y_pred)\n",
    "            logger.info(f\"Mean Absolute Error: {loss}\")\n",
    "        else:\n",
    "            logger.error(\"Invalid loss function. Use 'mse' or 'mae'.\")\n",
    "\n",
    "    def choose_loss_function(self):\n",
    "        \"\"\" Choose the loss function for model evaluation. \"\"\"\n",
    "        logger.info(f\"Chosen loss function: {self.loss_function}\")\n",
    "\n",
    "\n",
    "# Run the model pipeline\n",
    "if __name__ == \"__main__\":\n",
    "    data_path = os.path.abspath(\"../cleaned_data/primary_data.csv\")  # Update with your path\n",
    "    model = SalesPredictionModel(data_path, loss_function='mse')  # You can choose 'mae' here as well\n",
    "\n",
    "    # Execute the model steps\n",
    "    model.load_data()\n",
    "    model.preprocess_data()\n",
    "    model.train_model()\n",
    "    model.evaluate_model()\n",
    "    model.choose_loss_function()"
   ]
  },
  {
   "cell_type": "code",
   "execution_count": null,
   "metadata": {},
   "outputs": [],
   "source": []
  }
 ],
 "metadata": {
  "kernelspec": {
   "display_name": "Python 3 (ipykernel)",
   "language": "python",
   "name": "python3"
  },
  "language_info": {
   "codemirror_mode": {
    "name": "ipython",
    "version": 3
   },
   "file_extension": ".py",
   "mimetype": "text/x-python",
   "name": "python",
   "nbconvert_exporter": "python",
   "pygments_lexer": "ipython3",
   "version": "3.10.12"
  }
 },
 "nbformat": 4,
 "nbformat_minor": 2
}
