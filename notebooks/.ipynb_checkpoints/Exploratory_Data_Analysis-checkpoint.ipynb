{
 "cells": [
  {
   "cell_type": "code",
   "execution_count": 2,
   "metadata": {
    "vscode": {
     "languageId": "plaintext"
    }
   },
   "outputs": [],
   "source": [
    "import os\n",
    "import pandas as pd\n",
    "import matplotlib.pyplot as plt\n",
    "import seaborn as sns\n",
    "import numpy as np\n",
    "import logging\n",
    "\n",
    "# Set up logging\n",
    "logging.basicConfig(level=logging.INFO, format='%(asctime)s - %(levelname)s - %(message)s')\n",
    "logger = logging.getLogger()"
   ]
  },
  {
   "cell_type": "markdown",
   "metadata": {},
   "source": [
    "# Exploratory Data Analysis (EDA) for Rossmann Store Sales\n",
    "\n",
    "In this notebook, we will perform exploratory data analysis (EDA) on the sales data of Rossmann stores. Our primary goal is to analyze patterns in the sales, customer behavior, impact of promotions, and more."
   ]
  },
  {
   "cell_type": "markdown",
   "metadata": {},
   "source": [
    "## Loading the Data\n",
    "\n",
    "In the next step, we will load the merged dataset from the cleaned data folder. We will inspect the first few rows to understand its structure and check for any issues."
   ]
  },
  {
   "cell_type": "code",
   "execution_count": 3,
   "metadata": {
    "vscode": {
     "languageId": "plaintext"
    }
   },
   "outputs": [],
   "source": [
    "class EDA:\n",
    "    def __init__(self, base_dir, data_filename=\"merged_data.csv\"):\n",
    "        \"\"\"\n",
    "        Initializes the EDA object with paths for the merged data.\n",
    "        \n",
    "        :param base_dir: The base directory where the script is located.\n",
    "        :param data_filename: The name of the merged data file.\n",
    "        \"\"\"\n",
    "        self.base_dir = os.path.abspath(base_dir)\n",
    "        self.cleaned_data_folder = os.path.join(self.base_dir, \"../cleaned_data\")  # Define cleaned data folder\n",
    "        self.results_folder = os.path.join(self.base_dir, \"../results\")  # Define results folder\n",
    "        self.data_file = os.path.join(self.cleaned_data_folder, data_filename)  # Path to merged_data.csv\n",
    "        self.df = None\n",
    "        \n",
    "        # Create results folder if it doesn't exist\n",
    "        if not os.path.exists(self.results_folder):\n",
    "            os.makedirs(self.results_folder)\n",
    "        \n",
    "    def load_data(self):\n",
    "        \"\"\" Load the cleaned and merged data using the defined path. \"\"\"\n",
    "        try:\n",
    "            logger.info(f\"Loading data from {self.data_file}...\")\n",
    "            self.df = pd.read_csv(self.data_file)\n",
    "            logger.info(\"Data loaded successfully!\")\n",
    "        except Exception as e:\n",
    "            logger.error(f\"Error loading data: {e}\")"
   ]
  },
  {
   "cell_type": "markdown",
   "metadata": {},
   "source": [
    "## Checking for Missing Values\n",
    "\n",
    "This function checks the dataset for any missing values and logs the count of missing entries for each column. The result is also returned for further analysis."
   ]
  },
  {
   "cell_type": "code",
   "execution_count": null,
   "metadata": {
    "vscode": {
     "languageId": "plaintext"
    }
   },
   "outputs": [],
   "source": [
    "    def check_missing_values(self):\n",
    "        \"\"\" Check for missing values in the dataset. \"\"\"\n",
    "        logger.info(\"Checking for missing values in the dataset...\")\n",
    "        missing = self.df.isnull().sum()\n",
    "        logger.info(\"Missing values check:\")\n",
    "        logger.info(missing[missing > 0])\n",
    "        return missing"
   ]
  },
  {
   "cell_type": "markdown",
   "metadata": {},
   "source": [
    "## Plotting Column Distribution\n",
    "\n",
    "This function plots the distribution of a specified column using a histogram with a KDE (Kernel Density Estimate). It saves the plot as a PNG file in the results folder. If any error occurs during plotting, it is logged for debugging."
   ]
  },
  {
   "cell_type": "code",
   "execution_count": null,
   "metadata": {
    "vscode": {
     "languageId": "plaintext"
    }
   },
   "outputs": [],
   "source": [
    "    def plot_distribution(self, column):\n",
    "        \"\"\" Plot the distribution of a column and save the plot as PNG. \"\"\"\n",
    "        try:\n",
    "            logger.info(f\"Plotting distribution for column: {column}...\")\n",
    "            plt.figure(figsize=(10, 6))\n",
    "            sns.histplot(self.df[column], kde=True, bins=30)\n",
    "            plt.title(f\"Distribution of {column}\")\n",
    "            plot_filename = os.path.join(self.results_folder, f\"{column}_distribution.png\")\n",
    "            plt.savefig(plot_filename)\n",
    "            plt.close()\n",
    "            logger.info(f\"Saved plot: {plot_filename}\")\n",
    "        except Exception as e:\n",
    "            logger.error(f\"Error plotting distribution for {column}: {e}\")"
   ]
  },
  {
   "cell_type": "markdown",
   "metadata": {},
   "source": [
    "## Comparing Sales Before, During, and After Holidays\n",
    "\n",
    "This function compares the sales behavior before, during, and after holidays. It categorizes the data into holiday periods and visualizes the average sales for each period using a bar plot."
   ]
  },
  {
   "cell_type": "code",
   "execution_count": null,
   "metadata": {
    "vscode": {
     "languageId": "plaintext"
    }
   },
   "outputs": [],
   "source": [
    "    def compare_sales_before_during_after_holidays(self):\n",
    "        \"\"\" Compare sales behavior before, during, and after holidays and save the plot. \"\"\"\n",
    "        logger.info(\"Comparing sales before, during, and after holidays...\")\n",
    "        if 'Sales' in self.df.columns and 'Date' in self.df.columns:\n",
    "            self.df['Date'] = pd.to_datetime(self.df['Date'])\n",
    "            self.df['holiday_period'] = self.df['Date'].apply(self.assign_holiday_period)\n",
    "            \n",
    "            holiday_sales = self.df.groupby('holiday_period')['Sales'].mean().reset_index()\n",
    "            \n",
    "            plt.figure(figsize=(10, 6))\n",
    "            sns.barplot(x='holiday_period', y='Sales', data=holiday_sales)\n",
    "            plt.title(\"Average Sales Before, During, and After Holidays\")\n",
    "            plot_filename = os.path.join(self.results_folder, \"holiday_sales_comparison.png\")\n",
    "            plt.savefig(plot_filename)\n",
    "            plt.close()\n",
    "            logger.info(f\"Saved plot: {plot_filename}\")"
   ]
  },
  {
   "cell_type": "markdown",
   "metadata": {},
   "source": [
    "## Assigning Holiday Period\n",
    "\n",
    "This helper function assigns a holiday period (`Before Holiday`, `During Holiday`, `After Holiday`) based on a given date. The function checks if the date matches specific holiday dates or falls within certain months (e.g., December and January) to categorize it accordingly."
   ]
  },
  {
   "cell_type": "code",
   "execution_count": null,
   "metadata": {
    "vscode": {
     "languageId": "plaintext"
    }
   },
   "outputs": [],
   "source": [
    "    def assign_holiday_period(self, date):\n",
    "        \"\"\" Helper function to assign before, during, or after holidays. \"\"\"\n",
    "        holiday_dates = [\"12-25\", \"01-01\", \"04-05\"]  # Example of holidays (adjust as needed)\n",
    "        holiday_str = date.strftime(\"%m-%d\")\n",
    "        \n",
    "        if holiday_str in holiday_dates:\n",
    "            return \"During Holiday\"\n",
    "        elif date.month == 12 or date.month == 1:  # Example for before and after holiday\n",
    "            return \"Before Holiday\"\n",
    "        else:\n",
    "            return \"After Holiday\""
   ]
  },
  {
   "cell_type": "markdown",
   "metadata": {},
   "source": [
    "## Correlation Analysis\n",
    "\n",
    "This function analyzes the correlation between numeric variables in the dataset. It computes the correlation matrix and visualizes it using a heatmap. The heatmap is saved as a PNG file for further analysis.\n",
    "\n",
    "The heatmap uses the `coolwarm` color map to indicate strong and weak correlations, with annotations showing the correlation values."
   ]
  },
  {
   "cell_type": "code",
   "execution_count": null,
   "metadata": {
    "vscode": {
     "languageId": "plaintext"
    }
   },
   "outputs": [],
   "source": [
    "    def correlation_analysis(self):\n",
    "        \"\"\" Check for correlation between numeric variables and save the heatmap as PNG. \"\"\"\n",
    "        logger.info(\"Performing correlation analysis between numeric variables...\")\n",
    "        numeric_cols = self.df.select_dtypes(include=np.number).columns\n",
    "        correlation = self.df[numeric_cols].corr()\n",
    "        \n",
    "        plt.figure(figsize=(10, 6))\n",
    "        sns.heatmap(correlation, annot=True, cmap='coolwarm', fmt='.2f', linewidths=0.5)\n",
    "        plt.title(\"Correlation Matrix\")\n",
    "        plot_filename = os.path.join(self.results_folder, \"correlation_matrix.png\")\n",
    "        plt.savefig(plot_filename)\n",
    "        plt.close()\n",
    "        logger.info(f\"Saved plot: {plot_filename}\")"
   ]
  },
  {
   "cell_type": "markdown",
   "metadata": {},
   "source": [
    "## Sales vs. Number of Customers\n",
    "\n",
    "This function explores the relationship between sales and the number of customers. It visualizes this correlation using a scatter plot, where the x-axis represents the number of customers and the y-axis represents sales.\n",
    "\n",
    "The plot helps identify if there is any significant trend or pattern between these two variables, and the generated plot is saved as a PNG file."
   ]
  },
  {
   "cell_type": "code",
   "execution_count": null,
   "metadata": {
    "vscode": {
     "languageId": "plaintext"
    }
   },
   "outputs": [],
   "source": [
    "    def plot_sales_vs_customers(self):\n",
    "        \"\"\" Analyze the correlation between sales and number of customers and save the plot. \"\"\"\n",
    "        logger.info(\"Plotting relationship between Sales and Number of Customers...\")\n",
    "        if 'Sales' in self.df.columns and 'Customers' in self.df.columns:\n",
    "            plt.figure(figsize=(10, 6))\n",
    "            sns.scatterplot(x='Customers', y='Sales', data=self.df)\n",
    "            plt.title(\"Sales vs. Number of Customers\")\n",
    "            plt.xlabel(\"Number of Customers\")\n",
    "            plt.ylabel(\"Sales\")\n",
    "            plot_filename = os.path.join(self.results_folder, \"sales_vs_customers.png\")\n",
    "            plt.savefig(plot_filename)\n",
    "            plt.close()\n",
    "            logger.info(f\"Saved plot: {plot_filename}\")"
   ]
  },
  {
   "cell_type": "markdown",
   "metadata": {},
   "source": [
    "## Promo Impact on Sales\n",
    "\n",
    "This function evaluates how promotions (indicated by the 'Promo' column) influence sales performance. It compares the average sales for periods with and without promotions using a bar plot. The x-axis shows the promotion status (with or without promo), and the y-axis displays the corresponding average sales.\n",
    "\n",
    "The analysis helps to understand whether promotions significantly boost sales, and the resulting plot is saved as a PNG file."
   ]
  },
  {
   "cell_type": "code",
   "execution_count": null,
   "metadata": {
    "vscode": {
     "languageId": "plaintext"
    }
   },
   "outputs": [],
   "source": [
    "    def check_promo_impact_on_sales(self):\n",
    "        \"\"\" Check how promos affect sales and save the plot. \"\"\"\n",
    "        logger.info(\"Analyzing promo impact on sales...\")\n",
    "        if 'Promo' in self.df.columns and 'Sales' in self.df.columns:\n",
    "            promo_sales = self.df.groupby('Promo')['Sales'].mean().reset_index()\n",
    "            plt.figure(figsize=(10, 6))\n",
    "            sns.barplot(x='Promo', y='Sales', data=promo_sales)\n",
    "            plt.title(\"Average Sales with and without Promo\")\n",
    "            plot_filename = os.path.join(self.results_folder, \"promo_impact_on_sales.png\")\n",
    "            plt.savefig(plot_filename)\n",
    "            plt.close()\n",
    "            logger.info(f\"Saved plot: {plot_filename}\")"
   ]
  },
  {
   "cell_type": "markdown",
   "metadata": {},
   "source": [
    "## Customer Behavior Across Stores\n",
    "\n",
    "This function explores customer behavior across different stores by analyzing average sales for each store. It groups the data by the 'Store' column and calculates the mean sales for each store. The result is visualized as a bar plot, with the x-axis representing the stores and the y-axis showing the average sales.\n",
    "\n",
    "The plot is saved as a PNG file, which helps to identify which stores perform better in terms of sales."
   ]
  },
  {
   "cell_type": "code",
   "execution_count": null,
   "metadata": {
    "vscode": {
     "languageId": "plaintext"
    }
   },
   "outputs": [],
   "source": [
    "    def explore_store_behavior(self):\n",
    "        \"\"\" Explore customer behavior in stores and save the plot. \"\"\"\n",
    "        logger.info(\"Exploring customer behavior across stores...\")\n",
    "        if 'Store' in self.df.columns:\n",
    "            store_sales = self.df.groupby('Store')['Sales'].mean().reset_index()\n",
    "            \n",
    "            plt.figure(figsize=(12, 6))\n",
    "            sns.barplot(x='Store', y='Sales', data=store_sales)\n",
    "            plt.title(\"Average Sales by Store\")\n",
    "            plt.xticks(rotation=90)\n",
    "            plot_filename = os.path.join(self.results_folder, \"average_sales_by_store.png\")\n",
    "            plt.savefig(plot_filename)\n",
    "            plt.close()\n",
    "            logger.info(f\"Saved plot: {plot_filename}\")"
   ]
  },
  {
   "cell_type": "markdown",
   "metadata": {},
   "source": [
    "## Competitor Distance Impact on Sales\n",
    "\n",
    "This function analyzes the impact of competitor distance on sales by examining how the distance to competitors correlates with sales performance. It groups the data by 'CompetitionDistance' and calculates the average sales for each distance value. A line plot is generated to visualize this relationship.\n",
    "\n",
    "The plot is saved as a PNG file, providing insights into how competitor proximity influences sales."
   ]
  },
  {
   "cell_type": "code",
   "execution_count": null,
   "metadata": {
    "vscode": {
     "languageId": "plaintext"
    }
   },
   "outputs": [],
   "source": [
    "    def analyze_competitor_impact(self):\n",
    "        \"\"\" Analyze how competitor distance affects sales. \"\"\"\n",
    "        logger.info(\"Analyzing competitor distance effect on sales...\")\n",
    "        if 'CompetitionDistance' in self.df.columns:\n",
    "            competitor_sales = self.df.groupby('CompetitionDistance')['Sales'].mean().reset_index()\n",
    "            plt.figure(figsize=(10, 6))\n",
    "            sns.lineplot(x='CompetitionDistance', y='Sales', data=competitor_sales)\n",
    "            plt.title(\"Sales vs. Competitor Distance\")\n",
    "            plot_filename = os.path.join(self.results_folder, \"competitor_distance_impact.png\")\n",
    "            plt.savefig(plot_filename)\n",
    "            plt.close()\n",
    "            logger.info(f\"Saved plot: {plot_filename}\")"
   ]
  },
  {
   "cell_type": "markdown",
   "metadata": {},
   "source": [
    "## Perform EDA\n",
    "\n",
    "Loads data, checks missing values, plots sales distribution, compares sales around holidays, analyzes promo and competitor impact, and explores sales vs customers and store behavior. Saves all plots."
   ]
  },
  {
   "cell_type": "code",
   "execution_count": null,
   "metadata": {
    "vscode": {
     "languageId": "plaintext"
    }
   },
   "outputs": [],
   "source": [
    "    def perform_eda(self):\n",
    "        \"\"\" Perform the entire exploratory data analysis and save plots. \"\"\"\n",
    "        logger.info(\"Starting Exploratory Data Analysis...\")\n",
    "        \n",
    "        self.load_data()\n",
    "        self.check_missing_values()\n",
    "        self.plot_distribution('Sales')\n",
    "        self.compare_sales_before_during_after_holidays()\n",
    "        self.check_promo_impact_on_sales()\n",
    "        self.analyze_competitor_impact()    \n",
    "        self.correlation_analysis()\n",
    "        self.plot_sales_vs_customers()\n",
    "        self.explore_store_behavior()\n",
    "        \n",
    "        logger.info(\"Exploratory Data Analysis completed.\")"
   ]
  },
  {
   "cell_type": "markdown",
   "metadata": {},
   "source": [
    "## Main Execution\n",
    "\n",
    "Sets the base directory, initializes the EDA class, and performs the exploratory data analysis (EDA)."
   ]
  },
  {
   "cell_type": "code",
   "execution_count": 5,
   "metadata": {
    "vscode": {
     "languageId": "plaintext"
    }
   },
   "outputs": [
    {
     "ename": "NameError",
     "evalue": "name '__file__' is not defined",
     "output_type": "error",
     "traceback": [
      "\u001b[0;31m---------------------------------------------------------------------------\u001b[0m",
      "\u001b[0;31mNameError\u001b[0m                                 Traceback (most recent call last)",
      "Cell \u001b[0;32mIn[5], line 3\u001b[0m\n\u001b[1;32m      1\u001b[0m \u001b[38;5;28;01mif\u001b[39;00m \u001b[38;5;18m__name__\u001b[39m \u001b[38;5;241m==\u001b[39m \u001b[38;5;124m\"\u001b[39m\u001b[38;5;124m__main__\u001b[39m\u001b[38;5;124m\"\u001b[39m:\n\u001b[1;32m      2\u001b[0m     \u001b[38;5;66;03m# Specify the base directory where the script is located\u001b[39;00m\n\u001b[0;32m----> 3\u001b[0m     base_directory \u001b[38;5;241m=\u001b[39m os\u001b[38;5;241m.\u001b[39mpath\u001b[38;5;241m.\u001b[39mdirname(os\u001b[38;5;241m.\u001b[39mpath\u001b[38;5;241m.\u001b[39mabspath(\u001b[38;5;18;43m__file__\u001b[39;49m))\n\u001b[1;32m      5\u001b[0m     \u001b[38;5;66;03m# Initialize the EDA class\u001b[39;00m\n\u001b[1;32m      6\u001b[0m     eda \u001b[38;5;241m=\u001b[39m EDA(base_directory)\n",
      "\u001b[0;31mNameError\u001b[0m: name '__file__' is not defined"
     ]
    }
   ],
   "source": [
    "if __name__ == \"__main__\":\n",
    "    # Specify the base directory where the script is located\n",
    "    base_directory = os.path.dirname(os.path.abspath(__file__))\n",
    "    \n",
    "    # Initialize the EDA class\n",
    "    eda = EDA(base_directory)\n",
    "    \n",
    "    # Perform EDA\n",
    "    eda.perform_eda()"
   ]
  },
  {
   "cell_type": "code",
   "execution_count": null,
   "metadata": {},
   "outputs": [],
   "source": []
  }
 ],
 "metadata": {
  "kernelspec": {
   "display_name": "Python 3 (ipykernel)",
   "language": "python",
   "name": "python3"
  },
  "language_info": {
   "codemirror_mode": {
    "name": "ipython",
    "version": 3
   },
   "file_extension": ".py",
   "mimetype": "text/x-python",
   "name": "python",
   "nbconvert_exporter": "python",
   "pygments_lexer": "ipython3",
   "version": "3.10.12"
  }
 },
 "nbformat": 4,
 "nbformat_minor": 2
}
